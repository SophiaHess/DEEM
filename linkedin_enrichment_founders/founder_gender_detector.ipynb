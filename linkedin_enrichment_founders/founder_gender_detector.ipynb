{
 "cells": [
  {
   "cell_type": "markdown",
   "metadata": {},
   "source": [
    "## **Goal of Notebook**\n",
    "In this notebook we will check the gender based on the first name of the founders.  \n",
    "To do so, we use the api from **gender-api.com**"
   ]
  },
  {
   "cell_type": "markdown",
   "metadata": {},
   "source": [
    "## **Imports**"
   ]
  },
  {
   "cell_type": "code",
   "execution_count": null,
   "metadata": {},
   "outputs": [],
   "source": [
    "import sys\n",
    "import json\n",
    "import csv\n",
    "import numpy as np\n",
    "import pandas as pd\n",
    "import configparser\n",
    "from pathlib import Path\n",
    "from urllib.request import urlopen\n",
    "from pyairtable import Table\n",
    "sys.path.append(str(Path.cwd().parent))"
   ]
  },
  {
   "cell_type": "markdown",
   "metadata": {},
   "source": [
    "## **Configs**"
   ]
  },
  {
   "cell_type": "code",
   "execution_count": null,
   "metadata": {},
   "outputs": [],
   "source": [
    "# Read in Airtable Data\n",
    "config = configparser.ConfigParser()\n",
    "config.read(\"./../.config/example.ini\")\n",
    "api_key = config.get('Gender_API', 'GENDER_API_KEY')\n"
   ]
  },
  {
   "cell_type": "markdown",
   "metadata": {},
   "source": [
    "## **Initialization**"
   ]
  },
  {
   "cell_type": "code",
   "execution_count": null,
   "metadata": {},
   "outputs": [],
   "source": [
    "\n",
    "uploads_dict = {}\n",
    "data_tuples = []\n",
    "\n",
    "founders_col_list = ['founder_record_id', 'founder_first_name']\n",
    "\n",
    "# import csv with the founders_col_list columns\n",
    "a_founders_df = pd.read_csv(\"./output/founders.csv\")\n",
    "founders_df = a_founders_df.copy()\n",
    "\n",
    "missing_columns = [column for column in founders_col_list if column not in a_founders_df.columns]\n",
    "a_founders_df[missing_columns] = len(missing_columns) * [np.nan]\n",
    "\n"
   ]
  },
  {
   "cell_type": "markdown",
   "metadata": {},
   "source": [
    "## **Main Logic**"
   ]
  },
  {
   "cell_type": "code",
   "execution_count": null,
   "metadata": {},
   "outputs": [],
   "source": [
    "for id, name in zip(a_founders_df['founder_record_id'], a_founders_df['founder_first_name']) :\n",
    "\n",
    "    url = f\"https://gender-api.com/get?name={name}&key={api_key}\"\n",
    "    response = urlopen(url)\n",
    "    decoded = response.read().decode('utf-8')\n",
    "    data = json.loads(decoded)\n",
    "    # print( \"Gender: \" + data[\"gender\"])\n",
    "    data_tuples.append((id, data[\"gender\"], name))\n",
    "\n",
    "\n",
    "upload_dicts_list = [\n",
    "    {'id': record_id, 'fields': {'founder_first_name':name, 'ga_gender': gender}}\n",
    "    for record_id, gender, name in data_tuples\n",
    "]\n"
   ]
  },
  {
   "cell_type": "code",
   "execution_count": null,
   "metadata": {},
   "outputs": [],
   "source": [
    "# Define the output CSV file path\n",
    "csv_file_path = \"./output/founders_data.csv\"\n",
    "\n",
    "# Flatten the upload_dicts_list for CSV export\n",
    "flattened_data = [\n",
    "    {'id': entry['id'], **entry['fields']} for entry in upload_dicts_list\n",
    "]\n",
    "\n",
    "# Extract fieldnames dynamically\n",
    "fieldnames = flattened_data[0].keys() if flattened_data else []\n",
    "\n",
    "# Write data to the CSV file\n",
    "with open(csv_file_path, mode='w', newline='', encoding='utf-8') as file:\n",
    "    writer = csv.DictWriter(file, fieldnames=fieldnames)\n",
    "    writer.writeheader()  # Write the header row\n",
    "    writer.writerows(flattened_data)  # Write the data rows\n"
   ]
  }
 ],
 "metadata": {
  "kernelspec": {
   "display_name": "process_lkin",
   "language": "python",
   "name": "python3"
  },
  "language_info": {
   "codemirror_mode": {
    "name": "ipython",
    "version": 3
   },
   "file_extension": ".py",
   "mimetype": "text/x-python",
   "name": "python",
   "nbconvert_exporter": "python",
   "pygments_lexer": "ipython3",
   "version": "3.9.18"
  }
 },
 "nbformat": 4,
 "nbformat_minor": 2
}
